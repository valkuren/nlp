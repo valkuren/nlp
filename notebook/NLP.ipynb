{
 "cells": [
  {
   "cell_type": "markdown",
   "metadata": {},
   "source": [
    "# Text Analysis and Natural Language Processing (NLP)"
   ]
  },
  {
   "cell_type": "markdown",
   "metadata": {},
   "source": [
    "This notebook serves as a quick tutorial for text analysis and natural language processing (NLP). The topics and techniques covered include the following :\n",
    "- word tokenization, \n",
    "- stopwords, \n",
    "- part-of-speech tagging, \n",
    "- stemming, \n",
    "- lemmatization,\n",
    "- named entity recognition,\n",
    "- sentiment analysis.\n",
    "\n",
    "In this tutorial, we'll be using the Natural Language Toolkit (NLTK) open source library available in python, more information about this library can be found here: https://www.nltk.org/. Other open source, natural language processing libraries exist such as spaCy, https://spacy.io/, or StanfordNLP now called Stanza, https://stanfordnlp.github.io/stanza/."
   ]
  },
  {
   "cell_type": "markdown",
   "metadata": {},
   "source": [
    "## Installing and Loading the Packages"
   ]
  },
  {
   "cell_type": "markdown",
   "metadata": {},
   "source": [
    "NLTK can be installed using the pip command in the python shell. The package 'wordcloud' is also installed."
   ]
  },
  {
   "cell_type": "code",
   "execution_count": null,
   "metadata": {
    "scrolled": false
   },
   "outputs": [],
   "source": [
    "!pip install nltk"
   ]
  },
  {
   "cell_type": "code",
   "execution_count": null,
   "metadata": {},
   "outputs": [],
   "source": [
    "!pip install wordcloud"
   ]
  },
  {
   "cell_type": "markdown",
   "metadata": {},
   "source": [
    "Load the packages to the workspace."
   ]
  },
  {
   "cell_type": "code",
   "execution_count": 1,
   "metadata": {},
   "outputs": [],
   "source": [
    "import nltk\n",
    "import matplotlib.pyplot as plt\n",
    "\n",
    "#Dowload collections from NTLK\n",
    "#nltk.download()"
   ]
  },
  {
   "cell_type": "markdown",
   "metadata": {},
   "source": [
    "To continue following the next steps, it is important to download various collections from NLTK. Simply run the above command 'nltk.download()' and select 'popular' and 'book'. This will download the most used collections such as 'stopwords' and 'twitter_samples', along with texts from various books (this will presented next)."
   ]
  },
  {
   "cell_type": "markdown",
   "metadata": {},
   "source": [
    "Load all items from NLTK's book module. The book module stores text from several books."
   ]
  },
  {
   "cell_type": "code",
   "execution_count": 3,
   "metadata": {},
   "outputs": [
    {
     "name": "stdout",
     "output_type": "stream",
     "text": [
      "*** Introductory Examples for the NLTK Book ***\n",
      "Loading text1, ..., text9 and sent1, ..., sent9\n",
      "Type the name of the text or sentence to view it.\n",
      "Type: 'texts()' or 'sents()' to list the materials.\n",
      "text1: Moby Dick by Herman Melville 1851\n",
      "text2: Sense and Sensibility by Jane Austen 1811\n",
      "text3: The Book of Genesis\n",
      "text4: Inaugural Address Corpus\n",
      "text5: Chat Corpus\n",
      "text6: Monty Python and the Holy Grail\n",
      "text7: Wall Street Journal\n",
      "text8: Personals Corpus\n",
      "text9: The Man Who Was Thursday by G . K . Chesterton 1908\n"
     ]
    }
   ],
   "source": [
    "from nltk.book import *"
   ]
  },
  {
   "cell_type": "markdown",
   "metadata": {},
   "source": [
    "We can load any of the above texts simply by entering theirs names."
   ]
  },
  {
   "cell_type": "markdown",
   "metadata": {},
   "source": [
    "## Counting Vocabulary"
   ]
  },
  {
   "cell_type": "markdown",
   "metadata": {},
   "source": [
    "Counting items in a text: that is counting the number of words and punctuations that appear in a text."
   ]
  },
  {
   "cell_type": "code",
   "execution_count": 4,
   "metadata": {},
   "outputs": [
    {
     "name": "stdout",
     "output_type": "stream",
     "text": [
      "There are 44764 items in this text.\n"
     ]
    }
   ],
   "source": [
    "#Counting the length (number of items) for text3\n",
    "\n",
    "number_of_items = len(text3)\n",
    "print('There are',number_of_items,'items in this text.')"
   ]
  },
  {
   "cell_type": "markdown",
   "metadata": {},
   "source": [
    "Count the number of distinct items in the text."
   ]
  },
  {
   "cell_type": "code",
   "execution_count": 4,
   "metadata": {},
   "outputs": [
    {
     "name": "stdout",
     "output_type": "stream",
     "text": [
      "There are 2789 distinct items in this text.\n"
     ]
    }
   ],
   "source": [
    "#create a set of unique items in text3, and sort them in alphabetical order.\n",
    "distinct_items = sorted(set(text3))\n",
    "number_distinct = len(distinct_items)\n",
    "print('There are',number_distinct,'distinct items in this text.')"
   ]
  },
  {
   "cell_type": "markdown",
   "metadata": {},
   "source": [
    "Given we have counted the total number of items in the text, and the number of unique items, we can calculate the lexical richness with a simple division. "
   ]
  },
  {
   "cell_type": "code",
   "execution_count": 5,
   "metadata": {},
   "outputs": [
    {
     "data": {
      "text/plain": [
       "16.050197203298673"
      ]
     },
     "execution_count": 5,
     "metadata": {},
     "output_type": "execute_result"
    }
   ],
   "source": [
    "number_of_items/number_distinct"
   ]
  },
  {
   "cell_type": "markdown",
   "metadata": {},
   "source": [
    "We can also focus on a specific word and calculate how much text is taken up by this word.\n",
    "First and foremost, we'll return a subset of items in the text so we can select a word at random."
   ]
  },
  {
   "cell_type": "code",
   "execution_count": 6,
   "metadata": {},
   "outputs": [
    {
     "data": {
      "text/plain": [
       "['afraid',\n",
       " 'after',\n",
       " 'afterward',\n",
       " 'afterwards',\n",
       " 'aga',\n",
       " 'again',\n",
       " 'against',\n",
       " 'age',\n",
       " 'aileth',\n",
       " 'air',\n",
       " 'al',\n",
       " 'alive',\n",
       " 'all',\n",
       " 'almon',\n",
       " 'alo',\n",
       " 'alone',\n",
       " 'aloud',\n",
       " 'also',\n",
       " 'altar',\n",
       " 'altogether']"
      ]
     },
     "execution_count": 6,
     "metadata": {},
     "output_type": "execute_result"
    }
   ],
   "source": [
    "distinct_items[700:720]"
   ]
  },
  {
   "cell_type": "markdown",
   "metadata": {},
   "source": [
    "For example we can select 'after' from the subset above, and proceed to calculate the percentage of text taken up by this word:"
   ]
  },
  {
   "cell_type": "code",
   "execution_count": 7,
   "metadata": {},
   "outputs": [
    {
     "name": "stdout",
     "output_type": "stream",
     "text": [
      "The percentage of text taken up by the word after is equal to 0.23903136448932177 %\n"
     ]
    }
   ],
   "source": [
    "percentage_after = 100 * text3.count('after')/number_of_items\n",
    "print('The percentage of text taken up by the word after is equal to',percentage_after,'%')"
   ]
  },
  {
   "cell_type": "markdown",
   "metadata": {},
   "source": [
    "Extending on this point, we can write a small algorithm to find the item with this highest percentage and return thus percentage. To do this we can iterate though all items in the next:"
   ]
  },
  {
   "cell_type": "code",
   "execution_count": 8,
   "metadata": {},
   "outputs": [
    {
     "name": "stdout",
     "output_type": "stream",
     "text": [
      "The item with the highest occurence in the text is: ,\n",
      "The percentage of text taken up by this item is equal to 8.223125726029846 %\n"
     ]
    }
   ],
   "source": [
    "max_percentage = int()\n",
    "max_item = str()\n",
    "for item in distinct_items:\n",
    "    item_percentage = 100 * text3.count(item)/number_of_items\n",
    "    if item_percentage > max_percentage:\n",
    "        max_percentage = item_percentage\n",
    "        max_item = item\n",
    "        \n",
    "print('The item with the highest occurence in the text is:',max_item)\n",
    "print('The percentage of text taken up by this item is equal to',max_percentage,'%')"
   ]
  },
  {
   "cell_type": "markdown",
   "metadata": {},
   "source": [
    "However, we can simplify the previous precedure and use the built-in NLTK function 'FreqDist' to find the frequency of each item in the text."
   ]
  },
  {
   "cell_type": "code",
   "execution_count": 9,
   "metadata": {},
   "outputs": [
    {
     "data": {
      "text/plain": [
       "FreqDist({',': 3681, 'and': 2428, 'the': 2411, 'of': 1358, '.': 1315, 'And': 1250, 'his': 651, 'he': 648, 'to': 611, ';': 605, ...})"
      ]
     },
     "execution_count": 9,
     "metadata": {},
     "output_type": "execute_result"
    }
   ],
   "source": [
    "freqdist_text3 = FreqDist(text3)\n",
    "freqdist_text3"
   ]
  },
  {
   "cell_type": "markdown",
   "metadata": {},
   "source": [
    "None of the words in the ouput above aren't actually informative. They're stopwords, that is they correspond to the most common words in a language such as grammatical conjunctions.\n",
    "\n",
    "We can generate a cumulative count graph of the first 50 (frequent) words in the text.\n",
    "Remember we counted 44764 items in this text, the graph shows us these 50 words account for over 55% (25000) of the book."
   ]
  },
  {
   "cell_type": "code",
   "execution_count": 10,
   "metadata": {},
   "outputs": [
    {
     "data": {
      "image/png": "[encoded data removed]",
      "text/plain": [
       "<Figure size 720x360 with 1 Axes>"
      ]
     },
     "metadata": {
      "needs_background": "light"
     },
     "output_type": "display_data"
    },
    {
     "data": {
      "text/plain": [
       "<AxesSubplot:xlabel='Samples', ylabel='Cumulative Counts'>"
      ]
     },
     "execution_count": 10,
     "metadata": {},
     "output_type": "execute_result"
    }
   ],
   "source": [
    "plt.figure(figsize=(10, 5))\n",
    "freqdist_text3.plot(50, cumulative = True, linewidth = 1)"
   ]
  },
  {
   "cell_type": "markdown",
   "metadata": {},
   "source": [
    "## Tokenization"
   ]
  },
  {
   "cell_type": "markdown",
   "metadata": {},
   "source": [
    "An important first step in language processing is tokinization. This process breaks up raw text into smaller blocks which could words and punctation when applying word tokennization, or could be breaking text into sentences when applying sentence tokenization.\n",
    "\n",
    "We'll first write a small text to work with and proceed to apply the techniques mentioned."
   ]
  },
  {
   "cell_type": "code",
   "execution_count": 11,
   "metadata": {},
   "outputs": [
    {
     "data": {
      "text/plain": [
       "245"
      ]
     },
     "execution_count": 11,
     "metadata": {},
     "output_type": "execute_result"
    }
   ],
   "source": [
    "text_1 = \"Hello, this is a NLP tutorial in Python. This jupyter notebook will cover various techniques such as word tokenization, stopwords, PoS tagging, and stemming among others. The NLTK package, developed by Steven Bird and Edward Loper, will be used.\"\n",
    "len(text_1)"
   ]
  },
  {
   "cell_type": "markdown",
   "metadata": {},
   "source": [
    "### Sentence Tokenization"
   ]
  },
  {
   "cell_type": "markdown",
   "metadata": {},
   "source": [
    "NLTK has a function 'sent_tokenize' that allows us to break our text up into different sentences, as illustrated below."
   ]
  },
  {
   "cell_type": "code",
   "execution_count": 12,
   "metadata": {},
   "outputs": [
    {
     "name": "stdout",
     "output_type": "stream",
     "text": [
      "['Hello, this is a NLP tutorial in Python.', 'This jupyter notebook will cover various techniques such as word tokenization, stopwords, PoS tagging, and stemming among others.', 'The NLTK package, developed by Steven Bird and Edward Loper, will be used.']\n"
     ]
    }
   ],
   "source": [
    "from nltk.tokenize import sent_tokenize\n",
    "tokenized_sentences = sent_tokenize(text_1)\n",
    "print(tokenized_sentences)"
   ]
  },
  {
   "cell_type": "markdown",
   "metadata": {},
   "source": [
    "The function 'word_tokenize' on the other hand allows us to break the text into single items: words and punctuation."
   ]
  },
  {
   "cell_type": "code",
   "execution_count": 13,
   "metadata": {},
   "outputs": [
    {
     "name": "stdout",
     "output_type": "stream",
     "text": [
      "['Hello', ',', 'this', 'is', 'a', 'NLP', 'tutorial', 'in', 'Python', '.', 'This', 'jupyter', 'notebook', 'will', 'cover', 'various', 'techniques', 'such', 'as', 'word', 'tokenization', ',', 'stopwords', ',', 'PoS', 'tagging', ',', 'and', 'stemming', 'among', 'others', '.', 'The', 'NLTK', 'package', ',', 'developed', 'by', 'Steven', 'Bird', 'and', 'Edward', 'Loper', ',', 'will', 'be', 'used', '.']\n"
     ]
    }
   ],
   "source": [
    "from nltk.tokenize import word_tokenize\n",
    "tokenized_words = word_tokenize(text_1)\n",
    "print(tokenized_words)"
   ]
  },
  {
   "cell_type": "markdown",
   "metadata": {},
   "source": [
    "## Stop Words"
   ]
  },
  {
   "cell_type": "markdown",
   "metadata": {},
   "source": [
    "Stopwords are high frequency words that are usually filtered when processing text. The reason these words are filtered out, is that they provide little lexical and informative content. As mentioned previously, this concerns mainly logical connectives such as 'and', 'if', 'so', 'but'.\n",
    "\n",
    "There exists a corpus of stopwords in NLTK that allows us to filter our text, as illustrated below."
   ]
  },
  {
   "cell_type": "code",
   "execution_count": 14,
   "metadata": {},
   "outputs": [
    {
     "name": "stdout",
     "output_type": "stream",
     "text": [
      "['Hello', ',', 'NLP', 'tutorial', 'Python', '.', 'This', 'jupyter', 'notebook', 'cover', 'various', 'techniques', 'word', 'tokenization', ',', 'stopwords', ',', 'PoS', 'tagging', ',', 'stemming', 'among', 'others', '.', 'The', 'NLTK', 'package', ',', 'developed', 'Steven', 'Bird', 'Edward', 'Loper', ',', 'used', '.']\n",
      "Hello , NLP tutorial Python . This jupyter notebook cover various techniques word tokenization , stopwords , PoS tagging , stemming among others . The NLTK package , developed Steven Bird Edward Loper , used .\n"
     ]
    }
   ],
   "source": [
    "from nltk.corpus import stopwords\n",
    "stopWords = stopwords.words(\"english\")\n",
    "keyWords = [i for i in tokenized_words if not i.lower() in stopWords]\n",
    "sent_keyWords = ' '.join([j for j in keyWords])\n",
    "print(keyWords)\n",
    "print(sent_keyWords)"
   ]
  },
  {
   "cell_type": "markdown",
   "metadata": {},
   "source": [
    "## Stemming"
   ]
  },
  {
   "cell_type": "markdown",
   "metadata": {},
   "source": [
    "Stemming is the process of stripping off affixes, and/or reduce a word to their root word. An example of stemming is given below."
   ]
  },
  {
   "cell_type": "code",
   "execution_count": 14,
   "metadata": {},
   "outputs": [
    {
     "name": "stdout",
     "output_type": "stream",
     "text": [
      "['transform', 'transform']\n"
     ]
    }
   ],
   "source": [
    "from nltk.stem import PorterStemmer\n",
    "stemmer = PorterStemmer()\n",
    "example = ['transforming', 'transformation']\n",
    "stem_example = [stemmer.stem(j) for j in example]\n",
    "print(stem_example)"
   ]
  },
  {
   "cell_type": "markdown",
   "metadata": {},
   "source": [
    "Transformation and transforming reduce to 'transform' when applying stemming."
   ]
  },
  {
   "cell_type": "markdown",
   "metadata": {},
   "source": [
    "We'll apply stemming to the text we wrote earlier. However, the output shows that this technique doesn't always work efficiently."
   ]
  },
  {
   "cell_type": "code",
   "execution_count": 15,
   "metadata": {},
   "outputs": [
    {
     "name": "stdout",
     "output_type": "stream",
     "text": [
      "['hello', ',', 'nlp', 'tutori', 'python', '.', 'thi', 'jupyt', 'notebook', 'cover', 'variou', 'techniqu', 'word', 'token', ',', 'stopword', ',', 'po', 'tag', ',', 'stem', 'among', 'other', '.', 'the', 'nltk', 'packag', ',', 'develop', 'steven', 'bird', 'edward', 'loper', ',', 'use', '.']\n"
     ]
    }
   ],
   "source": [
    "stemWords = [stemmer.stem(j) for j in keyWords]\n",
    "print(stemWords)"
   ]
  },
  {
   "cell_type": "markdown",
   "metadata": {},
   "source": [
    "## Lemmatization"
   ]
  },
  {
   "cell_type": "markdown",
   "metadata": {},
   "source": [
    "Lemmatization reduces a word to its base word, and brings context to a word. A basic example is the word 'better' is reduced to 'good' when lemmatization is applied."
   ]
  },
  {
   "cell_type": "code",
   "execution_count": 16,
   "metadata": {},
   "outputs": [
    {
     "name": "stdout",
     "output_type": "stream",
     "text": [
      "['Hello', ',', 'NLP', 'tutorial', 'Python', '.', 'This', 'jupyter', 'notebook', 'cover', 'various', 'techniques', 'word', 'tokenization', ',', 'stopwords', ',', 'PoS', 'tag', ',', 'stem', 'among', 'others', '.', 'The', 'NLTK', 'package', ',', 'develop', 'Steven', 'Bird', 'Edward', 'Loper', ',', 'use', '.']\n"
     ]
    }
   ],
   "source": [
    "from nltk.stem import WordNetLemmatizer\n",
    "lem = WordNetLemmatizer()\n",
    "lemWords = [lem.lemmatize(i, pos='v') for i in keyWords]\n",
    "print(lemWords)"
   ]
  },
  {
   "cell_type": "markdown",
   "metadata": {},
   "source": [
    "## Part-of-speech Tagging"
   ]
  },
  {
   "cell_type": "markdown",
   "metadata": {},
   "source": [
    "Part of speech tagging is used to identify the grammatical groups of words, such as nouns, verbs, adjectives, adverbs.."
   ]
  },
  {
   "cell_type": "code",
   "execution_count": 17,
   "metadata": {},
   "outputs": [
    {
     "name": "stdout",
     "output_type": "stream",
     "text": [
      "[('Hello', 'NNP'), (',', ','), ('this', 'DT'), ('is', 'VBZ'), ('a', 'DT'), ('NLP', 'NNP'), ('tutorial', 'NN'), ('in', 'IN'), ('Python', 'NNP'), ('.', '.'), ('This', 'DT'), ('jupyter', 'NN'), ('notebook', 'NN'), ('will', 'MD'), ('cover', 'VB'), ('various', 'JJ'), ('techniques', 'NNS'), ('such', 'JJ'), ('as', 'IN'), ('word', 'NN'), ('tokenization', 'NN'), (',', ','), ('stopwords', 'NNS'), (',', ','), ('PoS', 'NNP'), ('tagging', 'NN'), (',', ','), ('and', 'CC'), ('stemming', 'VBG'), ('among', 'IN'), ('others', 'NNS'), ('.', '.'), ('The', 'DT'), ('NLTK', 'NNP'), ('package', 'NN'), (',', ','), ('developed', 'VBN'), ('by', 'IN'), ('Steven', 'NNP'), ('Bird', 'NNP'), ('and', 'CC'), ('Edward', 'NNP'), ('Loper', 'NNP'), (',', ','), ('will', 'MD'), ('be', 'VB'), ('used', 'VBN'), ('.', '.')]\n"
     ]
    }
   ],
   "source": [
    "posTagging = nltk.pos_tag(tokenized_words)\n",
    "print(posTagging)"
   ]
  },
  {
   "cell_type": "markdown",
   "metadata": {},
   "source": [
    "## Named Entity Recognition"
   ]
  },
  {
   "cell_type": "markdown",
   "metadata": {},
   "source": [
    "Named entity recognition is the process of identifying nouns that refer to named entities, that is to specific types of individuals such as a person, an organisation, and a location among others."
   ]
  },
  {
   "cell_type": "code",
   "execution_count": 18,
   "metadata": {},
   "outputs": [
    {
     "name": "stdout",
     "output_type": "stream",
     "text": [
      "(S\n",
      "  (GPE Hello/NNP)\n",
      "  ,/,\n",
      "  this/DT\n",
      "  is/VBZ\n",
      "  a/DT\n",
      "  (ORGANIZATION NLP/NNP)\n",
      "  tutorial/NN\n",
      "  in/IN\n",
      "  (GPE Python/NNP)\n",
      "  ./.\n",
      "  This/DT\n",
      "  jupyter/NN\n",
      "  notebook/NN\n",
      "  will/MD\n",
      "  cover/VB\n",
      "  various/JJ\n",
      "  techniques/NNS\n",
      "  such/JJ\n",
      "  as/IN\n",
      "  word/NN\n",
      "  tokenization/NN\n",
      "  ,/,\n",
      "  stopwords/NNS\n",
      "  ,/,\n",
      "  (ORGANIZATION PoS/NNP)\n",
      "  tagging/NN\n",
      "  ,/,\n",
      "  and/CC\n",
      "  stemming/VBG\n",
      "  among/IN\n",
      "  others/NNS\n",
      "  ./.\n",
      "  The/DT\n",
      "  (ORGANIZATION NLTK/NNP)\n",
      "  package/NN\n",
      "  ,/,\n",
      "  developed/VBN\n",
      "  by/IN\n",
      "  (PERSON Steven/NNP Bird/NNP)\n",
      "  and/CC\n",
      "  (PERSON Edward/NNP Loper/NNP)\n",
      "  ,/,\n",
      "  will/MD\n",
      "  be/VB\n",
      "  used/VBN\n",
      "  ./.)\n"
     ]
    }
   ],
   "source": [
    "from nltk import ne_chunk\n",
    "ner = ne_chunk(posTagging)\n",
    "print(ner)"
   ]
  },
  {
   "cell_type": "markdown",
   "metadata": {},
   "source": [
    "In our text, we have the names of two people: Steven Bird and Edward Loper. NER is used to find this information; the short algorithm below identifies and outputs the names of persons mentioned in the text."
   ]
  },
  {
   "cell_type": "code",
   "execution_count": 19,
   "metadata": {},
   "outputs": [
    {
     "data": {
      "text/plain": [
       "[['Steven', 'Bird'], ['Edward', 'Loper']]"
      ]
     },
     "execution_count": 19,
     "metadata": {},
     "output_type": "execute_result"
    }
   ],
   "source": [
    "persons = []\n",
    "for j in ner:\n",
    "    if hasattr(j, 'label'):\n",
    "        if j.label() == 'PERSON':\n",
    "            persons.append([i[0] for i in j])\n",
    "persons"
   ]
  },
  {
   "cell_type": "markdown",
   "metadata": {},
   "source": [
    "## Word Cloud"
   ]
  },
  {
   "cell_type": "markdown",
   "metadata": {},
   "source": [
    "A popular visualisation tool used in NLP is wordcloud. Words are depicted according to their weight in the text, so words with a higher weight are larger. Two examples are show below."
   ]
  },
  {
   "cell_type": "code",
   "execution_count": 36,
   "metadata": {},
   "outputs": [
    {
     "data": {
      "image/png": "[encoded data removed]",
      "text/plain": [
       "<Figure size 432x288 with 1 Axes>"
      ]
     },
     "metadata": {
      "needs_background": "light"
     },
     "output_type": "display_data"
    }
   ],
   "source": [
    "from wordcloud import WordCloud\n",
    "wordcloud = WordCloud(stopwords = stopWords, colormap = 'Spectral').generate(text_1)\n",
    "plt.imshow(wordcloud, interpolation = 'bilinear')\n",
    "plt.axis(\"off\")\n",
    "plt.show()"
   ]
  },
  {
   "cell_type": "code",
   "execution_count": 35,
   "metadata": {},
   "outputs": [
    {
     "data": {
      "image/png": "[encoded data removed]",
      "text/plain": [
       "<Figure size 432x288 with 1 Axes>"
      ]
     },
     "metadata": {
      "needs_background": "light"
     },
     "output_type": "display_data"
    }
   ],
   "source": [
    "text_3 = ' '.join(i for i in text3)\n",
    "wordcloud = WordCloud(stopwords=stopWords, colormap = 'magma').generate(text_3)\n",
    "plt.imshow(wordcloud, interpolation='bilinear')\n",
    "plt.axis(\"off\")\n",
    "plt.show()"
   ]
  },
  {
   "cell_type": "markdown",
   "metadata": {},
   "source": [
    "## Sentiment Analysis"
   ]
  },
  {
   "cell_type": "markdown",
   "metadata": {},
   "source": [
    "### Import Packages"
   ]
  },
  {
   "cell_type": "code",
   "execution_count": 2,
   "metadata": {},
   "outputs": [],
   "source": [
    "from nltk.corpus import twitter_samples\n",
    "import pandas as pd\n",
    "from nltk.tokenize import sent_tokenize\n",
    "from nltk.tokenize import word_tokenize\n",
    "from nltk.corpus import stopwords\n",
    "from nltk.stem import PorterStemmer\n",
    "from nltk.stem import WordNetLemmatizer\n",
    "\n",
    "from sklearn.feature_extraction.text import CountVectorizer, TfidfTransformer\n",
    "from sklearn.naive_bayes import MultinomialNB\n",
    "from sklearn.model_selection import train_test_split\n",
    "from sklearn.pipeline import Pipeline\n",
    "from sklearn.metrics import confusion_matrix, classification_report,accuracy_score"
   ]
  },
  {
   "cell_type": "markdown",
   "metadata": {},
   "source": [
    "### Create DataFrame"
   ]
  },
  {
   "cell_type": "markdown",
   "metadata": {},
   "source": [
    "We can create a simple dataframe using the twitter samples from the NTLK corpus."
   ]
  },
  {
   "cell_type": "code",
   "execution_count": 3,
   "metadata": {},
   "outputs": [
    {
     "data": {
      "text/html": [
       "<div>\n",
       "<style scoped>\n",
       "    .dataframe tbody tr th:only-of-type {\n",
       "        vertical-align: middle;\n",
       "    }\n",
       "\n",
       "    .dataframe tbody tr th {\n",
       "        vertical-align: top;\n",
       "    }\n",
       "\n",
       "    .dataframe thead th {\n",
       "        text-align: right;\n",
       "    }\n",
       "</style>\n",
       "<table border=\"1\" class=\"dataframe\">\n",
       "  <thead>\n",
       "    <tr style=\"text-align: right;\">\n",
       "      <th></th>\n",
       "      <th>tweet</th>\n",
       "      <th>label</th>\n",
       "    </tr>\n",
       "  </thead>\n",
       "  <tbody>\n",
       "    <tr>\n",
       "      <th>0</th>\n",
       "      <td>#FollowFriday @France_Inte @PKuchly57 @Milipol...</td>\n",
       "      <td>1</td>\n",
       "    </tr>\n",
       "    <tr>\n",
       "      <th>1</th>\n",
       "      <td>@Lamb2ja Hey James! How odd :/ Please call our...</td>\n",
       "      <td>1</td>\n",
       "    </tr>\n",
       "    <tr>\n",
       "      <th>2</th>\n",
       "      <td>@DespiteOfficial we had a listen last night :)...</td>\n",
       "      <td>1</td>\n",
       "    </tr>\n",
       "    <tr>\n",
       "      <th>3</th>\n",
       "      <td>@97sides CONGRATS :)</td>\n",
       "      <td>1</td>\n",
       "    </tr>\n",
       "    <tr>\n",
       "      <th>4</th>\n",
       "      <td>yeaaaah yippppy!!!  my accnt verified rqst has...</td>\n",
       "      <td>1</td>\n",
       "    </tr>\n",
       "  </tbody>\n",
       "</table>\n",
       "</div>"
      ],
      "text/plain": [
       "                                               tweet label\n",
       "0  #FollowFriday @France_Inte @PKuchly57 @Milipol...     1\n",
       "1  @Lamb2ja Hey James! How odd :/ Please call our...     1\n",
       "2  @DespiteOfficial we had a listen last night :)...     1\n",
       "3                               @97sides CONGRATS :)     1\n",
       "4  yeaaaah yippppy!!!  my accnt verified rqst has...     1"
      ]
     },
     "execution_count": 3,
     "metadata": {},
     "output_type": "execute_result"
    }
   ],
   "source": [
    "documents = ([(t, \"1\") for t in twitter_samples.strings(\"positive_tweets.json\")] + \n",
    "             [(t, \"0\") for t in twitter_samples.strings(\"negative_tweets.json\")])\n",
    "df_documents = pd.DataFrame(documents)\n",
    "df_documents = df_documents.rename(columns = {0: 'tweet', 1: 'label'})\n",
    "df_documents.head()"
   ]
  },
  {
   "cell_type": "code",
   "execution_count": null,
   "metadata": {},
   "outputs": [],
   "source": [
    "df_document.loc[0,'tweet']"
   ]
  },
  {
   "cell_type": "markdown",
   "metadata": {},
   "source": [
    "We notice however that the tweets contain various characters, hashtags and user names. It is therefore important we process these tweets and transform then into 'clean' text."
   ]
  },
  {
   "cell_type": "markdown",
   "metadata": {},
   "source": [
    "### Processing the Tweets"
   ]
  },
  {
   "cell_type": "markdown",
   "metadata": {},
   "source": [
    "Let's start by removing the usernames in the tweets. The usernames won't have an impact of the sentiment of a tweet, they simply indicate to whom the tweet is directed to."
   ]
  },
  {
   "cell_type": "code",
   "execution_count": 4,
   "metadata": {},
   "outputs": [
    {
     "name": "stdout",
     "output_type": "stream",
     "text": [
      "#FollowFriday for being top engaged members in my community this week :)\n"
     ]
    }
   ],
   "source": [
    "import re\n",
    "def remove_users(tweet):\n",
    "    \"\"\"Function to remove twitter usernames.\"\"\"\n",
    "    removeUsername = re.sub('(?<=^|(?<=[^a-zA-Z0-9-\\.]))@([A-Za-z0-9_]+)','',tweet)\n",
    "    cleanTweet = ' '.join(removeUsername.split())\n",
    "    return cleanTweet\n",
    "\n",
    "print(remove_users(df_documents.loc[0,'tweet']))"
   ]
  },
  {
   "cell_type": "markdown",
   "metadata": {},
   "source": [
    "Here, we'll create a simple function allowing us to remove any punctuation we may find in a tweet. This function will remove the hashtags aswell."
   ]
  },
  {
   "cell_type": "code",
   "execution_count": 5,
   "metadata": {},
   "outputs": [
    {
     "name": "stdout",
     "output_type": "stream",
     "text": [
      "FollowFriday FranceInte PKuchly57 MilipolParis for being top engaged members in my community this week \n"
     ]
    }
   ],
   "source": [
    "import string\n",
    "def remove_punctuation(tweet):\n",
    "    \"\"\"Function to remove punctuation in a tweet.\"\"\"\n",
    "    removed_punc = tweet.translate(str.maketrans(\"\",\"\", string.punctuation))\n",
    "    return removed_punc\n",
    "\n",
    "print(remove_punctuation(df_documents.loc[0,'tweet']))"
   ]
  },
  {
   "cell_type": "markdown",
   "metadata": {},
   "source": [
    "Alternative method for removing punctuation using TextBlob. Works just as well as the previous method."
   ]
  },
  {
   "cell_type": "code",
   "execution_count": 6,
   "metadata": {},
   "outputs": [
    {
     "data": {
      "text/plain": [
       "WordList(['FollowFriday', 'France_Inte', 'PKuchly57', 'Milipol_Paris', 'for', 'being', 'top', 'engaged', 'members', 'in', 'my', 'community', 'this', 'week'])"
      ]
     },
     "execution_count": 6,
     "metadata": {},
     "output_type": "execute_result"
    }
   ],
   "source": [
    "from textblob import TextBlob\n",
    "tblb = TextBlob(df_documents.loc[0,'tweet'])\n",
    "tblb.words"
   ]
  },
  {
   "cell_type": "markdown",
   "metadata": {},
   "source": [
    "As mentioned earlier in this tutorial, stopwords don't offer any information content. Stopwords are therfore removed with the following function."
   ]
  },
  {
   "cell_type": "code",
   "execution_count": 7,
   "metadata": {},
   "outputs": [
    {
     "name": "stdout",
     "output_type": "stream",
     "text": [
      "['followfriday', 'top', 'engaged', 'members', 'community', 'week']\n"
     ]
    }
   ],
   "source": [
    "def remove_stopwords(tweet):\n",
    "    \"\"\"Function to remove stopwords.\"\"\"\n",
    "    stopWords = stopwords.words(\"english\")\n",
    "    no_stopwords = [i.lower() for i in word_tokenize(tweet) if not i.lower() in stopWords]\n",
    "    return no_stopwords\n",
    "\n",
    "no_users = remove_users(df_documents.loc[0,'tweet'])\n",
    "no_punctuation = remove_punctuation(no_users)\n",
    "print(remove_stopwords(no_punctuation))"
   ]
  },
  {
   "cell_type": "markdown",
   "metadata": {},
   "source": [
    "Various words may differ, but will have the same meaning. Thus for consistency purposes and to normalize the tweets, we apply the lemmatization technique previously described.  "
   ]
  },
  {
   "cell_type": "code",
   "execution_count": 8,
   "metadata": {},
   "outputs": [
    {
     "name": "stdout",
     "output_type": "stream",
     "text": [
      "['followfriday', 'top', 'engage', 'members', 'community', 'week']\n"
     ]
    }
   ],
   "source": [
    "def lemmatize_tweet(cleanTweet):\n",
    "    \"\"\"Function to reduce words to their base word.\"\"\"\n",
    "    lem = WordNetLemmatizer()\n",
    "    lemmatized_words = [lem.lemmatize(i, pos='v') for i in cleanTweet]\n",
    "    return lemmatized_words\n",
    "\n",
    "cleaned_tweet = remove_stopwords(no_punctuation)\n",
    "print(lemmatize_tweet(cleaned_tweet))"
   ]
  },
  {
   "cell_type": "markdown",
   "metadata": {},
   "source": [
    "Once these processing functions defined we can apply them to complete data set of tweets."
   ]
  },
  {
   "cell_type": "code",
   "execution_count": 9,
   "metadata": {},
   "outputs": [
    {
     "data": {
      "text/html": [
       "<div>\n",
       "<style scoped>\n",
       "    .dataframe tbody tr th:only-of-type {\n",
       "        vertical-align: middle;\n",
       "    }\n",
       "\n",
       "    .dataframe tbody tr th {\n",
       "        vertical-align: top;\n",
       "    }\n",
       "\n",
       "    .dataframe thead th {\n",
       "        text-align: right;\n",
       "    }\n",
       "</style>\n",
       "<table border=\"1\" class=\"dataframe\">\n",
       "  <thead>\n",
       "    <tr style=\"text-align: right;\">\n",
       "      <th></th>\n",
       "      <th>tweet</th>\n",
       "      <th>label</th>\n",
       "    </tr>\n",
       "  </thead>\n",
       "  <tbody>\n",
       "    <tr>\n",
       "      <th>0</th>\n",
       "      <td>[followfriday, top, engage, members, community...</td>\n",
       "      <td>1</td>\n",
       "    </tr>\n",
       "    <tr>\n",
       "      <th>1</th>\n",
       "      <td>[hey, jam, odd, please, call, contact, centre,...</td>\n",
       "      <td>1</td>\n",
       "    </tr>\n",
       "    <tr>\n",
       "      <th>2</th>\n",
       "      <td>[listen, last, night, bleed, amaze, track, sco...</td>\n",
       "      <td>1</td>\n",
       "    </tr>\n",
       "    <tr>\n",
       "      <th>3</th>\n",
       "      <td>[congrats]</td>\n",
       "      <td>1</td>\n",
       "    </tr>\n",
       "    <tr>\n",
       "      <th>4</th>\n",
       "      <td>[yeaaaah, yippppy, accnt, verify, rqst, succee...</td>\n",
       "      <td>1</td>\n",
       "    </tr>\n",
       "  </tbody>\n",
       "</table>\n",
       "</div>"
      ],
      "text/plain": [
       "                                               tweet label\n",
       "0  [followfriday, top, engage, members, community...     1\n",
       "1  [hey, jam, odd, please, call, contact, centre,...     1\n",
       "2  [listen, last, night, bleed, amaze, track, sco...     1\n",
       "3                                         [congrats]     1\n",
       "4  [yeaaaah, yippppy, accnt, verify, rqst, succee...     1"
      ]
     },
     "execution_count": 9,
     "metadata": {},
     "output_type": "execute_result"
    }
   ],
   "source": [
    "for row in range(0, len(df_documents)):\n",
    "    no_users = remove_users(df_documents.loc[row,'tweet'])\n",
    "    no_punctuation = remove_punctuation(no_users)\n",
    "    cleaned_tweet = remove_stopwords(no_punctuation)\n",
    "    lem_tweet = lemmatize_tweet(cleaned_tweet)\n",
    "    df_documents.loc[row,'tweet'] = lem_tweet\n",
    "\n",
    "df_documents.head()"
   ]
  },
  {
   "cell_type": "markdown",
   "metadata": {},
   "source": [
    "This can be simplified with a general 'processing' function that will encompass the various defined functions."
   ]
  },
  {
   "cell_type": "code",
   "execution_count": 21,
   "metadata": {},
   "outputs": [],
   "source": [
    "def processing(tweet):\n",
    "    \n",
    "    def remove_users(tweet):\n",
    "        \"\"\"Function to remove twitter usernames.\"\"\"\n",
    "        removeUsername = re.sub('(?<=^|(?<=[^a-zA-Z0-9-\\.]))@([A-Za-z0-9_]+)','',tweet)\n",
    "        cleanTweet = ' '.join(removeUsername.split())\n",
    "        return cleanTweet\n",
    "\n",
    "    def remove_punctuation(tweet):\n",
    "        \"\"\"Function to remove punctuation in a tweet.\"\"\"\n",
    "        removed_punc = tweet.translate(str.maketrans(\"\",\"\", string.punctuation))\n",
    "        return removed_punc\n",
    "\n",
    "    def remove_stopwords(tweet):\n",
    "        \"\"\"Function to remove stopwords.\"\"\"\n",
    "        stopWords = stopwords.words(\"english\")\n",
    "        no_stopwords = [i.lower() for i in word_tokenize(tweet) if not i.lower() in stopWords]\n",
    "        return no_stopwords\n",
    "\n",
    "    def lemmatize_tweet(cleanTweet):\n",
    "        \"\"\"Function to reduce words to their base word.\"\"\"\n",
    "        lem = WordNetLemmatizer()\n",
    "        lemmatized_words = [lem.lemmatize(i, pos='v') for i in cleanTweet]\n",
    "        return lemmatized_words\n",
    "    \n",
    "    removed_users = remove_users(tweet)\n",
    "    removed_punctuation = remove_punctuation(removed_users)\n",
    "    removed_stopwords = remove_stopwords(removed_punctuation)\n",
    "    cleaned_tweet = lemmatize_tweet(removed_stopwords)\n",
    "    \n",
    "    return cleaned_tweet"
   ]
  },
  {
   "cell_type": "markdown",
   "metadata": {},
   "source": [
    "Construct a pipeline to perform classification."
   ]
  },
  {
   "cell_type": "code",
   "execution_count": 22,
   "metadata": {},
   "outputs": [],
   "source": [
    "pipeline = Pipeline([\n",
    "    ('bow',CountVectorizer(analyzer=processing)),  # strings to token integer counts\n",
    "    ('tfidf', TfidfTransformer()),  # integer counts to weighted TF-IDF scores\n",
    "    ('classifier', MultinomialNB()),  # train on TF-IDF vectors w/ Naive Bayes classifier\n",
    "])"
   ]
  },
  {
   "cell_type": "code",
   "execution_count": 19,
   "metadata": {},
   "outputs": [],
   "source": [
    "for i in range(0, len(df_documents)):\n",
    "    df_documents.loc[i, 'tweet'] = ' '.join(df_documents.loc[i, 'tweet'])"
   ]
  },
  {
   "cell_type": "markdown",
   "metadata": {},
   "source": [
    "Split the data:\n",
    "- Training set,\n",
    "- Test set.\n",
    "\n",
    "Train the pipeline on the training set, and measure the accuracy of this model with the test set.\n",
    "Various accuracy measurements are demonstrated, such as the confusion matrix which states the predictive error for each target/class."
   ]
  },
  {
   "cell_type": "code",
   "execution_count": 23,
   "metadata": {},
   "outputs": [
    {
     "name": "stdout",
     "output_type": "stream",
     "text": [
      "              precision    recall  f1-score   support\n",
      "\n",
      "           0       0.82      0.74      0.78      1096\n",
      "           1       0.72      0.80      0.76       904\n",
      "\n",
      "    accuracy                           0.77      2000\n",
      "   macro avg       0.77      0.77      0.77      2000\n",
      "weighted avg       0.77      0.77      0.77      2000\n",
      "\n",
      "[[813 283]\n",
      " [184 720]]\n",
      "0.7665\n"
     ]
    }
   ],
   "source": [
    "tweet_train, tweet_test, label_train, label_test = train_test_split(df_documents['tweet'], df_documents['label'], test_size=0.2)\n",
    "pipeline.fit(tweet_train,label_train)\n",
    "predictions = pipeline.predict(tweet_test)\n",
    "print(classification_report(predictions,label_test))\n",
    "print(confusion_matrix(predictions,label_test))\n",
    "print(accuracy_score(predictions,label_test))"
   ]
  }
 ],
 "metadata": {
  "kernelspec": {
   "display_name": "Python 3",
   "language": "python",
   "name": "python3"
  },
  "language_info": {
   "codemirror_mode": {
    "name": "ipython",
    "version": 3
   },
   "file_extension": ".py",
   "mimetype": "text/x-python",
   "name": "python",
   "nbconvert_exporter": "python",
   "pygments_lexer": "ipython3",
   "version": "3.8.6"
  }
 },
 "nbformat": 4,
 "nbformat_minor": 4
}
